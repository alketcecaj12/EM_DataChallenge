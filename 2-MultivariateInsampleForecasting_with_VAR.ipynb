{
 "cells": [
  {
   "cell_type": "markdown",
   "metadata": {},
   "source": [
    "### Vector Autoregression\n",
    "\n",
    "<p>The Vector Autoregression (VAR) method models the next step in each time series using an AR model. \n",
    "It is the generalization of AR to multiple parallel time series, e.g. multivariate time series.\n",
    "\n",
    "The notation for the model involves specifying the order for the AR(p) model as \n",
    "parameters to a VAR function, e.g. VAR(p). </p>"
   ]
  },
  {
   "cell_type": "code",
   "execution_count": 207,
   "metadata": {},
   "outputs": [],
   "source": [
    "import matplotlib.pyplot as plt \n",
    "import pandas as pd\n",
    "import numpy as np\n",
    "from sklearn.metrics import mean_squared_error\n",
    "from math import sqrt\n",
    "import warnings\n",
    "from statsmodels.tsa.vector_ar.var_model import VAR\n",
    "warnings.filterwarnings('ignore')"
   ]
  },
  {
   "cell_type": "markdown",
   "metadata": {},
   "source": [
    "### Load an preprocess the data:\n",
    "\n",
    "- data will also cleaned of missing values\n",
    "- only columns with 'latest_forecasted' will be considered"
   ]
  },
  {
   "cell_type": "code",
   "execution_count": 208,
   "metadata": {},
   "outputs": [],
   "source": [
    "data = pd.read_csv(\"DK-DK2.csv\")"
   ]
  },
  {
   "cell_type": "code",
   "execution_count": 209,
   "metadata": {},
   "outputs": [],
   "source": [
    "new_cols = []\n",
    "for i in data.columns: \n",
    "    if i.startswith(\"latest_forecasted_\"):\n",
    "        new_cols.append(i)\n",
    "\n",
    "new_cols.append(\"carbon_intensity_avg\")"
   ]
  },
  {
   "cell_type": "code",
   "execution_count": 210,
   "metadata": {},
   "outputs": [],
   "source": [
    "new_data = data[new_cols]"
   ]
  },
  {
   "cell_type": "code",
   "execution_count": 211,
   "metadata": {},
   "outputs": [
    {
     "data": {
      "text/plain": [
       "latest_forecasted_dewpoint_avg                   0\n",
       "latest_forecasted_precipitation_avg              0\n",
       "latest_forecasted_solar_avg                      0\n",
       "latest_forecasted_temperature_avg                0\n",
       "latest_forecasted_wind_x_avg                     0\n",
       "latest_forecasted_wind_y_avg                     0\n",
       "latest_forecasted_price_avg                      0\n",
       "latest_forecasted_production_avg                 0\n",
       "latest_forecasted_consumption_avg                0\n",
       "latest_forecasted_power_net_import_DE_avg        0\n",
       "latest_forecasted_power_net_import_DK-DK1_avg    0\n",
       "latest_forecasted_power_net_import_SE-SE4_avg    0\n",
       "latest_forecasted_production_solar_avg           0\n",
       "latest_forecasted_production_wind_avg            0\n",
       "carbon_intensity_avg                             0\n",
       "dtype: int64"
      ]
     },
     "execution_count": 211,
     "metadata": {},
     "output_type": "execute_result"
    }
   ],
   "source": [
    "for i in new_data.columns: \n",
    "    new_data[i] = new_data[i].bfill().ffill()\n",
    "\n",
    "new_data.drop(\"latest_forecasted_power_net_import_SE_avg\", axis = 1, inplace = True)\n",
    "new_data.isna().sum()"
   ]
  },
  {
   "cell_type": "code",
   "execution_count": 212,
   "metadata": {},
   "outputs": [],
   "source": [
    "X = new_data.values"
   ]
  },
  {
   "cell_type": "code",
   "execution_count": 213,
   "metadata": {},
   "outputs": [
    {
     "data": {
      "text/plain": [
       "(41932, 15)"
      ]
     },
     "execution_count": 213,
     "metadata": {},
     "output_type": "execute_result"
    }
   ],
   "source": [
    "X.shape"
   ]
  },
  {
   "cell_type": "markdown",
   "metadata": {},
   "source": [
    "### The VAR model"
   ]
  },
  {
   "cell_type": "code",
   "execution_count": 214,
   "metadata": {},
   "outputs": [],
   "source": [
    "model = VAR(X)\n",
    "model_fit = model.fit()"
   ]
  },
  {
   "cell_type": "markdown",
   "metadata": {},
   "source": [
    "### A first prediction"
   ]
  },
  {
   "cell_type": "code",
   "execution_count": 215,
   "metadata": {},
   "outputs": [],
   "source": [
    "yhat = model_fit.forecast(model_fit.endog, steps=24)"
   ]
  },
  {
   "cell_type": "code",
   "execution_count": 216,
   "metadata": {},
   "outputs": [
    {
     "data": {
      "text/plain": [
       "2"
      ]
     },
     "execution_count": 216,
     "metadata": {},
     "output_type": "execute_result"
    }
   ],
   "source": [
    "yhat.ndim"
   ]
  },
  {
   "cell_type": "code",
   "execution_count": 217,
   "metadata": {},
   "outputs": [
    {
     "data": {
      "text/plain": [
       "(24, 15)"
      ]
     },
     "execution_count": 217,
     "metadata": {},
     "output_type": "execute_result"
    }
   ],
   "source": [
    "yhat.shape"
   ]
  },
  {
   "cell_type": "markdown",
   "metadata": {},
   "source": [
    "### Compute the prediction error"
   ]
  },
  {
   "cell_type": "code",
   "execution_count": 218,
   "metadata": {},
   "outputs": [],
   "source": [
    "predicted = yhat\n",
    "expected = X[-24:, :]   "
   ]
  },
  {
   "cell_type": "code",
   "execution_count": 219,
   "metadata": {},
   "outputs": [
    {
     "data": {
      "text/plain": [
       "(24, 15)"
      ]
     },
     "execution_count": 219,
     "metadata": {},
     "output_type": "execute_result"
    }
   ],
   "source": [
    "predicted.shape"
   ]
  },
  {
   "cell_type": "markdown",
   "metadata": {},
   "source": [
    "### Visualize grafics for error distribution of each variable"
   ]
  },
  {
   "cell_type": "code",
   "execution_count": 220,
   "metadata": {},
   "outputs": [
    {
     "name": "stdout",
     "output_type": "stream",
     "text": [
      "(24, 15)\n"
     ]
    },
    {
     "data": {
      "image/png": "[encoded data removed]",
      "text/plain": [
       "<Figure size 2000x600 with 1 Axes>"
      ]
     },
     "metadata": {},
     "output_type": "display_data"
    }
   ],
   "source": [
    "## boxlot \n",
    "d = abs(predicted-expected)\n",
    "print(d.shape)\n",
    "plt.figure(figsize = (20,6))\n",
    "plt.boxplot(d, vert= False);\n",
    "plt.show()"
   ]
  },
  {
   "cell_type": "markdown",
   "metadata": {},
   "source": [
    "### We need only the last variable i.e. **carbon_intensity_avg**"
   ]
  },
  {
   "cell_type": "code",
   "execution_count": 221,
   "metadata": {},
   "outputs": [],
   "source": [
    "last_column_pred = predicted[:, -1]\n",
    "last_column_exp = expected[:, -1]"
   ]
  },
  {
   "cell_type": "code",
   "execution_count": 222,
   "metadata": {},
   "outputs": [],
   "source": [
    "error = abs(last_column_pred - last_column_exp)"
   ]
  },
  {
   "cell_type": "markdown",
   "metadata": {},
   "source": [
    "### Grafics of the distribution of the total error"
   ]
  },
  {
   "cell_type": "code",
   "execution_count": 223,
   "metadata": {},
   "outputs": [
    {
     "data": {
      "image/png": "[encoded data removed]",
      "text/plain": [
       "<Figure size 1400x200 with 1 Axes>"
      ]
     },
     "metadata": {},
     "output_type": "display_data"
    }
   ],
   "source": [
    "plt.figure(figsize = (14,2))\n",
    "plt.boxplot(error, vert= False);\n",
    "plt.show()"
   ]
  },
  {
   "cell_type": "markdown",
   "metadata": {},
   "source": [
    "## Use MAPE(Mean Absolute Percentage Error) as a performance measure.\n",
    "- MAPE is uselful as it can give you an imediate idea of how the forecasting model performs \n",
    "- Business related performance measure as it can be compare and well understood by stakeholders "
   ]
  },
  {
   "cell_type": "code",
   "execution_count": 224,
   "metadata": {},
   "outputs": [
    {
     "data": {
      "text/plain": [
       "24.19546945881619"
      ]
     },
     "execution_count": 224,
     "metadata": {},
     "output_type": "execute_result"
    }
   ],
   "source": [
    "# Compute MAPE\n",
    "mape = np.mean(np.abs((last_column_pred - last_column_exp) / last_column_exp)) * 100\n",
    "mape"
   ]
  },
  {
   "cell_type": "markdown",
   "metadata": {},
   "source": [
    "### Walk forward validation \n",
    "- The walk forward validation presented in this case is quite simple.\n",
    "\n",
    "- divide the dataset in as many folds as necessary and for each fold perform one forecast.\n",
    "\n",
    "- compare the different forecasts in order to compute bias and variance of the model"
   ]
  },
  {
   "cell_type": "code",
   "execution_count": 225,
   "metadata": {
    "scrolled": true
   },
   "outputs": [],
   "source": [
    "s = 0\n",
    "f = 1000\n",
    "mape_errors = []\n",
    "for i in range(len(X)):\n",
    "    \n",
    "    # create fold i and fit the model\n",
    "    Xi = X[s:f]\n",
    "    model = VAR(Xi)\n",
    "    model_fit = model.fit()\n",
    "    \n",
    "    # perform the forecast\n",
    "    yhat = model_fit.forecast(model_fit.endog, steps=24)\n",
    "    predicted = yhat\n",
    "    expected = Xi[-24:, :] \n",
    "\n",
    "    last_column_pred = predicted[:, -1]\n",
    "    last_column_exp = expected[:, -1]\n",
    "    \n",
    "    # Compute MAPE\n",
    "    mape = np.mean(np.abs((last_column_pred - last_column_exp) / last_column_exp)) * 100\n",
    "    mape_errors.append(mape)\n",
    "\n",
    "    # check conditions for walkforward \n",
    "    s = f\n",
    "    f += 1000\n",
    "    if f > 41000: break"
   ]
  },
  {
   "cell_type": "markdown",
   "metadata": {},
   "source": [
    "### Compute the bias and variance as a mean and standard deviation of the array of MAPE errors"
   ]
  },
  {
   "cell_type": "code",
   "execution_count": 226,
   "metadata": {},
   "outputs": [
    {
     "data": {
      "text/plain": [
       "25.093866515549053"
      ]
     },
     "execution_count": 226,
     "metadata": {},
     "output_type": "execute_result"
    }
   ],
   "source": [
    "np.mean(mape_errors)"
   ]
  },
  {
   "cell_type": "code",
   "execution_count": 227,
   "metadata": {},
   "outputs": [
    {
     "data": {
      "text/plain": [
       "14.652669581594797"
      ]
     },
     "execution_count": 227,
     "metadata": {},
     "output_type": "execute_result"
    }
   ],
   "source": [
    "np.std(mape_errors)"
   ]
  },
  {
   "cell_type": "markdown",
   "metadata": {},
   "source": [
    "## Conclusions\n",
    "\n",
    "- the MAPE obtained here is not a small one\n",
    "\n",
    "- the VAR model is simple and not able to capture the complexity in the data\n",
    "\n",
    "- Maybe a VARMA model could have given better results. \n",
    "\n",
    "- An approach based on machine learning (deep learning and Neural Networks) could also have had better results."
   ]
  },
  {
   "cell_type": "code",
   "execution_count": null,
   "metadata": {},
   "outputs": [],
   "source": []
  },
  {
   "cell_type": "code",
   "execution_count": null,
   "metadata": {},
   "outputs": [],
   "source": []
  },
  {
   "cell_type": "code",
   "execution_count": null,
   "metadata": {},
   "outputs": [],
   "source": []
  },
  {
   "cell_type": "code",
   "execution_count": null,
   "metadata": {},
   "outputs": [],
   "source": []
  }
 ],
 "metadata": {
  "kernelspec": {
   "display_name": "Python 3 (ipykernel)",
   "language": "python",
   "name": "python3"
  },
  "language_info": {
   "codemirror_mode": {
    "name": "ipython",
    "version": 3
   },
   "file_extension": ".py",
   "mimetype": "text/x-python",
   "name": "python",
   "nbconvert_exporter": "python",
   "pygments_lexer": "ipython3",
   "version": "3.10.13"
  }
 },
 "nbformat": 4,
 "nbformat_minor": 4
}
